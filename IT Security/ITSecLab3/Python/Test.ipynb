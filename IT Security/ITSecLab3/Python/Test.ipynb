{
 "cells": [
  {
   "cell_type": "code",
   "execution_count": 153,
   "metadata": {},
   "outputs": [],
   "source": [
    "russian_dictionary = {\n",
    "            'А': 10, 'Б': 11, 'В': 12, 'Г': 13, 'Д': 14, 'Е': 15, 'Ж': 16,\n",
    "            'З': 17, 'И': 18, 'Й': 19, 'К': 20, 'Л': 21, 'М': 22, 'Н': 23,\n",
    "            'О': 24, 'П': 25, 'Р': 26, 'С': 27, 'Т': 28, 'У': 29, 'Ф': 30,\n",
    "            'Х': 31, 'Ц': 32, 'Ч': 33, 'Ш': 34, 'Щ': 35, 'Ъ': 36, 'Ы': 37,\n",
    "            'Ь': 38, 'Э': 39, 'Ю': 40, 'Я': 41\n",
    "        }\n",
    "\n",
    "english_dictionary = {\n",
    "            'A': 42, 'B': 43, 'C': 44, 'D': 45, 'E': 46, 'F': 47, 'G': 48,\n",
    "            'H': 49, 'I': 50, 'J': 51, 'K': 52, 'L': 53, 'M': 54, 'N': 55,\n",
    "            'O': 56, 'P': 57, 'Q': 58, 'R': 59, 'S': 60, 'T': 61, 'U': 62,\n",
    "            'V': 63, 'W': 64, 'X': 65, 'Y': 66, 'Z': 67\n",
    "        }\n",
    "\n",
    "special_symbols_encoding = {\n",
    "            ' ': 68, ',': 69, '.': 70\n",
    "        }\n",
    "\n",
    "def convert_message(message:str):\n",
    "    message_in_coding = ''\n",
    "\n",
    "    for letter in message:\n",
    "        if letter in russian_dictionary:\n",
    "            message_in_coding += str(russian_dictionary[letter])\n",
    "        elif letter in english_dictionary:\n",
    "            message_in_coding += str(english_dictionary[letter])\n",
    "        elif letter in special_symbols_encoding:\n",
    "            message_in_coding += str(special_symbols_encoding[letter])\n",
    "\n",
    "    return message_in_coding"
   ]
  },
  {
   "cell_type": "code",
   "execution_count": 154,
   "metadata": {},
   "outputs": [],
   "source": [
    "def create_number_for_encryption(number:str, key:int):\n",
    "    number_for_encryption = []\n",
    "    step = 0\n",
    "    for i in range(1, len(number)):\n",
    "        if int(number[step:i]) < key and int(number[step:(i + 1)]) > key:\n",
    "            if int(number[i]) == 0:\n",
    "                number_for_encryption.append(number[step:i - 1])\n",
    "                step = i - 2\n",
    "                i -=1\n",
    "            else:\n",
    "                number_for_encryption.append(number[step:i])\n",
    "                step = i\n",
    "        elif i + 2 >= len(number):\n",
    "            number_for_encryption.append(number[step:])\n",
    "            break\n",
    "\n",
    "    return number_for_encryption  "
   ]
  },
  {
   "cell_type": "code",
   "execution_count": 156,
   "metadata": {},
   "outputs": [
    {
     "name": "stdout",
     "output_type": "stream",
     "text": [
      "4946535356686456595345\n",
      "['4946', '5353', '5668', '6456', '5953', '45']\n"
     ]
    }
   ],
   "source": [
    "number = convert_message('Hello world'.upper())\n",
    "print(number)\n",
    "\n",
    "key = 21841\n",
    "\n",
    "print(create_number_for_encryption(number, key))"
   ]
  },
  {
   "cell_type": "markdown",
   "metadata": {},
   "source": [
    "21841\n",
    "\n",
    "4946 5353 5668 6456 5953 45"
   ]
  },
  {
   "cell_type": "markdown",
   "metadata": {},
   "source": [
    "    for i in range(1, len(number)):\n",
    "        try:\n",
    "            if int(number[step:i]) < key and int(number[step:(i + 1)]) > key:\n",
    "                if int(number[i]) == 0:\n",
    "                    number_for_encryption.append(number[step:i - 1])\n",
    "                    step = i - 2\n",
    "                    i -=1\n",
    "                else:\n",
    "                    number_for_encryption.append(number[step:i])\n",
    "                    step = i\n",
    "        except IndexError:\n",
    "            number_for_encryption.append(number[step:])\n",
    "\n",
    "    return number_for_encryption  "
   ]
  }
 ],
 "metadata": {
  "kernelspec": {
   "display_name": "Python 3",
   "language": "python",
   "name": "python3"
  },
  "language_info": {
   "codemirror_mode": {
    "name": "ipython",
    "version": 3
   },
   "file_extension": ".py",
   "mimetype": "text/x-python",
   "name": "python",
   "nbconvert_exporter": "python",
   "pygments_lexer": "ipython3",
   "version": "3.12.2"
  }
 },
 "nbformat": 4,
 "nbformat_minor": 2
}
